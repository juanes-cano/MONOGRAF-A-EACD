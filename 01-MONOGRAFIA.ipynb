{
 "cells": [
  {
   "cell_type": "markdown",
   "id": "362833ed",
   "metadata": {},
   "source": [
    "# Carga de datos"
   ]
  },
  {
   "cell_type": "code",
   "execution_count": null,
   "id": "3e7453be",
   "metadata": {},
   "outputs": [],
   "source": [
    "# Cargamos las librerías que consideramos necesarias para el desarrollo del proyecto\n",
    "\n",
    "import numpy as np\n",
    "import pandas as pd\n",
    "import matplotlib.pyplot as plt\n",
    "import seaborn as sns\n",
    "import plotly.express as px\n",
    "import time"
   ]
  },
  {
   "cell_type": "code",
   "execution_count": null,
   "id": "fbadef01",
   "metadata": {},
   "outputs": [],
   "source": [
    "# Nos conectamos a la data que se encuentra en Google Drive\n",
    "\n",
    "url='https://drive.google.com/file/d/1IOZDGxoWSMAlv_p0MIUkF1ZJpPrUwBK1/view?usp=sharing'\n",
    "url='https://drive.google.com/uc?id=' + url.split('/')[-2]\n",
    "data = pd.read_csv(url)"
   ]
  },
  {
   "cell_type": "code",
   "execution_count": null,
   "id": "b4cbb4e7",
   "metadata": {},
   "outputs": [],
   "source": [
    "data"
   ]
  },
  {
   "cell_type": "markdown",
   "id": "1cf7d887",
   "metadata": {},
   "source": [
    "Identificamos un tamaño de dataset de 1372 filas o muestras y 98 columnas, adicional se observan que las primeras 5 columnas son de referencia en la fecha, el resto de variables predictoras o dependientes hacen referencia a la utilización de los recursos productivos en kilogramos (KG) y horas (Hrs) y al final del data set identificamos los consumos diarios en energía y en agua que serían nuestas variables a predecir, las variables respuesta, se identifica una historia desde el 12/02/2018 hasta el 14/11/2021 detalle día."
   ]
  },
  {
   "cell_type": "markdown",
   "id": "057c3d51",
   "metadata": {},
   "source": [
    "# Análisis Exploratorio de los datos"
   ]
  },
  {
   "cell_type": "markdown",
   "id": "a73ee6a4",
   "metadata": {},
   "source": [
    "Observemos la info y naturaleza de cada variable y adicionalmente si hay presencia de datos nulos"
   ]
  },
  {
   "cell_type": "code",
   "execution_count": null,
   "id": "8eecd848",
   "metadata": {},
   "outputs": [],
   "source": [
    "data.columns"
   ]
  },
  {
   "cell_type": "code",
   "execution_count": null,
   "id": "6313f8dc",
   "metadata": {},
   "outputs": [],
   "source": [
    "data.info()"
   ]
  },
  {
   "cell_type": "markdown",
   "id": "f7d82472",
   "metadata": {},
   "source": [
    "Luego de analizar el output anterior, se puede afirmar que no se encuentran datos nulos en el dataset, por lo cual posteriormente se podrá obviar la fase de imputación, también se identican que la mayoría de variables de fecha se encuentran en tipo entero, la mayoria de variables se tienen en tipo entero o flotante, lo cual esta bien dado el detalle de la medición en el reporte de los datos"
   ]
  },
  {
   "cell_type": "markdown",
   "id": "c4ed9257",
   "metadata": {},
   "source": [
    "Se describira el conjunto de datos en algunos estadisticos generales"
   ]
  },
  {
   "cell_type": "code",
   "execution_count": null,
   "id": "b9ada807",
   "metadata": {},
   "outputs": [],
   "source": [
    "pd.set_option('display.max_columns', 500) # Para modificar el maximo de columnas en un output de pandas\n",
    "data.describe()"
   ]
  },
  {
   "cell_type": "markdown",
   "id": "1f111a11",
   "metadata": {},
   "source": [
    "Observando detenidamente el output de \"describe\" anterior, se afirma que el valor minimo en la mayoría de las variables numericas es 0, esto debido a que se esta contemplando los días domingos, que son los días que no hay producción. Adicionalmente se observa que algunas variables el minimo hasta el quantil 25% o incluso hasta el 50% se mantiene en 0, esto posiblemente indica un sesgo de datos causando por una subutilización del recurso o por activación solo en materiales extraordinarios o temporada"
   ]
  },
  {
   "cell_type": "code",
   "execution_count": null,
   "id": "cf7160f6",
   "metadata": {},
   "outputs": [],
   "source": [
    "sns.barplot(x=data.DiasSem, y=data.energia)"
   ]
  },
  {
   "cell_type": "markdown",
   "id": "4912a22c",
   "metadata": {},
   "source": [
    "En la grafica anterior podemos observar que los dias 7 o domingos son los días de menor demanda energetica en promedio en la planta, ya que no es día de producción"
   ]
  },
  {
   "cell_type": "markdown",
   "id": "77a7d6db",
   "metadata": {},
   "source": [
    "Ahora se graficarán algunas frecuencias de las variables referentes a fechas, para mirar un poco la homogeneidad en los tiempos y temporadas del año"
   ]
  },
  {
   "cell_type": "code",
   "execution_count": null,
   "id": "b44167eb",
   "metadata": {},
   "outputs": [],
   "source": [
    "plt.rcParams['figure.figsize']=(15,5)\n",
    "sns.barplot(x=data.Semana.value_counts().index, y=data.Semana.value_counts(), color=\"royalblue\")"
   ]
  },
  {
   "cell_type": "markdown",
   "id": "5e6b6b1e",
   "metadata": {},
   "source": [
    "A partir de la grafica anterior, se puede afirmar que las semanas del primer mes enero y de los 2 ultimos meses noviembre y diciembre se tienen menos observaciones"
   ]
  },
  {
   "cell_type": "code",
   "execution_count": null,
   "id": "61d22176",
   "metadata": {},
   "outputs": [],
   "source": [
    "sns.barplot(x=data.DiaMes.value_counts().index, y=data.DiaMes.value_counts(), color=\"lightgreen\")"
   ]
  },
  {
   "cell_type": "markdown",
   "id": "84dc1f1d",
   "metadata": {},
   "source": [
    "En la grafica anterior observamos que los ultimos días del mes tienen menos observaciones, debido a que no todos los meses tienen 30 o 31 días"
   ]
  },
  {
   "cell_type": "code",
   "execution_count": null,
   "id": "462dd690",
   "metadata": {},
   "outputs": [],
   "source": [
    "sns.barplot(x=data.Mes.value_counts().index, y=data.Mes.value_counts(), color=\"coral\")"
   ]
  },
  {
   "cell_type": "markdown",
   "id": "ae84b35e",
   "metadata": {},
   "source": [
    "Al igual que lo observamos en la semana, en la variable mes se observan menos observaciones en los meses Enero, febrero, noviembre y diciembre con respecto a los demas meses, esto debido a la disponibilidad de la fuente de información"
   ]
  },
  {
   "cell_type": "code",
   "execution_count": null,
   "id": "071ffab6",
   "metadata": {},
   "outputs": [],
   "source": [
    "sns.barplot(x=data.DiasSem.value_counts().index, y=data.DiasSem.value_counts(), color=\"lightgrey\")"
   ]
  },
  {
   "cell_type": "markdown",
   "id": "f28f4295",
   "metadata": {},
   "source": [
    "La frecuecia de datos de acuerdo al dia de la semana es bastante homogéneo"
   ]
  },
  {
   "cell_type": "code",
   "execution_count": null,
   "id": "4caa71e5",
   "metadata": {
    "scrolled": false
   },
   "outputs": [],
   "source": [
    "data.hist(figsize=(80,80)) "
   ]
  },
  {
   "cell_type": "markdown",
   "id": "2a85554f",
   "metadata": {},
   "source": [
    "De acuerdo con lo anterior, se analizará un histograma por grupo de histogramas similares, esto con el fin del mejor entendimiento de la data y de la necesidad"
   ]
  },
  {
   "cell_type": "code",
   "execution_count": null,
   "id": "55923867",
   "metadata": {},
   "outputs": [],
   "source": [
    "data.Semana.hist()"
   ]
  },
  {
   "cell_type": "markdown",
   "id": "5b946ff6",
   "metadata": {},
   "source": [
    "Por ejemplo en los histogramas de las variables temporales o de fechas, se observa un comportamiento de frecuencias homogeneo y paralelo"
   ]
  },
  {
   "cell_type": "code",
   "execution_count": null,
   "id": "c89cf3a2",
   "metadata": {},
   "outputs": [],
   "source": [
    "data.KG_15EMPA09.hist()"
   ]
  },
  {
   "cell_type": "markdown",
   "id": "8055ab4f",
   "metadata": {},
   "source": [
    "El histograma del recurso 15EMPA09, es representante de una serie de recursos e histogramas que son de uso cómun en la planta, de forma permanente y en la linea de productos de una cantidad de productos considerables, por ello, a pesar de los valores alrededores de 0 que representan los días domingos, vemos un comportamiento aproximado a una normal, posiblemente con una media y mediana similares. Los recursos que tambien ofrecen el mismo comportamiento, serían: 15EMPA10, 15PREM01, 15MOLI07, 15MEZC08, 15FORM02, 15SEPA02, 15MEZC06, 15AHUM01, 15FORM01, 15SEPA01, 15EMPA11, 15EMPM01, 15MEZC05, 15MOLI03, 15EMPA04, 15TAJA02, 15EMUL01"
   ]
  },
  {
   "cell_type": "code",
   "execution_count": null,
   "id": "e7549ebe",
   "metadata": {},
   "outputs": [],
   "source": [
    "data.KG_15AHUM09.hist()"
   ]
  },
  {
   "cell_type": "markdown",
   "id": "c9ed4f6e",
   "metadata": {},
   "source": [
    "El recurso 15AHUM09, representa otro tipo de comportamiento, en el cual, excluyendo los valores proximos a 0, su distribución parece ser mas versatil, en la cual en algunos casos se prescindiría de su uso, por la priorización de otras lineas de producción dentro de la planta o incluso que con la ocupación dada en otros recursos similares como el 15AHUM01, sean suficiente en algunas temporadas del año, este comportamiento es similar en los siguientes recursos: 15EMBU01, 15EMPM06, 15TUNE01, 15MEZC07, 15MOLI01, 15MOLI06"
   ]
  },
  {
   "cell_type": "code",
   "execution_count": null,
   "id": "2c9c3ef0",
   "metadata": {},
   "outputs": [],
   "source": [
    "data.KG_15HORN01.hist()"
   ]
  },
  {
   "cell_type": "markdown",
   "id": "bb12c28b",
   "metadata": {},
   "source": [
    "El grafico del recurso 15HORN01, nos da una señal respecto a los valores de la data y posible escalas muy diferentes, esto ocurre tambien con los recursos: 15PORC03, 15TUNE03"
   ]
  },
  {
   "cell_type": "code",
   "execution_count": null,
   "id": "45a59366",
   "metadata": {},
   "outputs": [],
   "source": [
    "data.KG_15EMPA06.hist()"
   ]
  },
  {
   "cell_type": "markdown",
   "id": "1e018090",
   "metadata": {},
   "source": [
    "El comportamiento de la 15EMPA06, es tipico en la utilización esporadica por producción de lineas especiales o tempordas, los recursos que comparten esta distribución similar son: 15SELL02, 15EMBU03, 15EMPA08, 15EMPM05, 15COCI01, 15SELL05, 15DOSI01, 15SELL06, 15SELL03"
   ]
  },
  {
   "cell_type": "markdown",
   "id": "78e2742a",
   "metadata": {},
   "source": [
    "Dada la cantidad de muestras y variables del dataset, se toma la decisión de realizar parte del análisis exploratorio con una muestra de variables, que representa alrededor del 30% del total"
   ]
  },
  {
   "cell_type": "code",
   "execution_count": null,
   "id": "e23715e4",
   "metadata": {},
   "outputs": [],
   "source": [
    "sub_data = data[['KG_15EMPA09',\n",
    "       'KG_15EMPA10', 'KG_15PREM01', 'KG_15MEZC08', 'KG_15MOLI07',\n",
    "       'KG_15AHUM10', 'KG_15FORM02', 'KG_15SEPA02', 'KG_15MEZC06',\n",
    "       'KG_15AHUM01', 'KG_15FORM01', 'KG_15SEPA01', 'KG_15AHUM09',\n",
    "       'KG_15EMBU01', 'KG_15EMPM06', 'KG_15TUNE01', 'KG_15MEZC07',\n",
    "       'Hrs_15EMPA09', 'Hrs_15EMPA10', 'Hrs_15PREM01',\n",
    "       'Hrs_15MEZC08', 'Hrs_15MOLI07', 'Hrs_15AHUM10', 'Hrs_15FORM02',\n",
    "       'Hrs_15SEPA02', 'Hrs_15MEZC06', 'Hrs_15AHUM01', 'Hrs_15FORM01',\n",
    "       'Hrs_15SEPA01', 'Hrs_15AHUM09', 'Hrs_15EMBU01', 'Hrs_15EMPM06',\n",
    "       'Hrs_15TUNE01', 'Hrs_15MEZC07','energia']]"
   ]
  },
  {
   "cell_type": "markdown",
   "id": "b2d5012a",
   "metadata": {},
   "source": [
    "Para las mismas variables en kg, se seleciona la información en Horas"
   ]
  },
  {
   "cell_type": "markdown",
   "id": "65c56612",
   "metadata": {},
   "source": [
    "Ahora realizaremos un analisis de dispersión de la submuestra"
   ]
  },
  {
   "cell_type": "code",
   "execution_count": null,
   "id": "3b2b4d06",
   "metadata": {},
   "outputs": [],
   "source": [
    "start_time = time.time()\n",
    "\n",
    "pd.plotting.scatter_matrix(sub_data, figsize=(100,100), grid=True, diagonal=\"kde\")\n",
    "\n",
    "elapsed_time = time.time() - start_time\n",
    "print(elapsed_time)"
   ]
  },
  {
   "cell_type": "markdown",
   "id": "626bd041",
   "metadata": {},
   "source": [
    "A partir del output anterior, observamos la relación entre algunas variables predictoras con una relación al parecer muy fuerte y positiva, que podría significar colinealidad, tambien se identifica en algunas relaciones algun tipo de clusters, la relación con las variables respuesta no es completamente clara, en algunos casos se observa un tipo de centroide con rango de confiabilidad de variación."
   ]
  },
  {
   "cell_type": "markdown",
   "id": "8137f61b",
   "metadata": {},
   "source": [
    "A continuación, se creará un sub dataset de la data original que solo incluye las variables númericas, para analizarlas entre ellas"
   ]
  },
  {
   "cell_type": "code",
   "execution_count": null,
   "id": "e6bfd292",
   "metadata": {},
   "outputs": [],
   "source": [
    "data_numbers = data[['KG_15EMPA09',\n",
    "       'KG_15EMPA10', 'KG_15PREM01', 'KG_15MEZC08', 'KG_15MOLI07',\n",
    "       'KG_15AHUM10', 'KG_15FORM02', 'KG_15SEPA02', 'KG_15MEZC06',\n",
    "       'KG_15AHUM01', 'KG_15FORM01', 'KG_15SEPA01', 'KG_15AHUM09',\n",
    "       'KG_15EMBU01', 'KG_15EMPM06', 'KG_15TUNE01', 'KG_15MEZC07',\n",
    "       'KG_15MOLI01', 'KG_15MOLI06', 'KG_15EMPA11', 'KG_15EMPM01',\n",
    "       'KG_15MEZC05', 'KG_15MOLI03', 'KG_15HORN01', 'KG_15PORC03',\n",
    "       'KG_15TUNE03', 'KG_15EMPA06', 'KG_15EMPA02', 'KG_15MOLI02',\n",
    "       'KG_15SELL02', 'KG_15MEZC04', 'KG_15MOLI08', 'KG_15TUNE02',\n",
    "       'KG_15PORC01', 'KG_15TUNE04', 'KG_15EMBU03', 'KG_15EMPA08',\n",
    "       'KG_15EMPM05', 'KG_15COCI01', 'KG_15EMPA04', 'KG_15TAJA02',\n",
    "       'KG_15EMUL01', 'KG_15SELL05', 'KG_15DOSI01', 'KG_15SELL06',\n",
    "       'KG_15SELL03', 'Hrs_15EMPA09', 'Hrs_15EMPA10', 'Hrs_15PREM01',\n",
    "       'Hrs_15MEZC08', 'Hrs_15MOLI07', 'Hrs_15AHUM10', 'Hrs_15FORM02',\n",
    "       'Hrs_15SEPA02', 'Hrs_15MEZC06', 'Hrs_15AHUM01', 'Hrs_15FORM01',\n",
    "       'Hrs_15SEPA01', 'Hrs_15AHUM09', 'Hrs_15EMBU01', 'Hrs_15EMPM06',\n",
    "       'Hrs_15TUNE01', 'Hrs_15MEZC07', 'Hrs_15MOLI01', 'Hrs_15MOLI06',\n",
    "       'Hrs_15EMPA11', 'Hrs_15EMPM01', 'Hrs_15MEZC05', 'Hrs_15MOLI03',\n",
    "       'Hrs_15HORN01', 'Hrs_15PORC03', 'Hrs_15TUNE03', 'Hrs_15EMPA06',\n",
    "       'Hrs_15EMPA02', 'Hrs_15MOLI02', 'Hrs_15SELL02', 'Hrs_15MEZC04',\n",
    "       'Hrs_15MOLI08', 'Hrs_15TUNE02', 'Hrs_15PORC01', 'Hrs_15TUNE04',\n",
    "       'Hrs_15EMBU03', 'Hrs_15EMPA08', 'Hrs_15EMPM05', 'Hrs_15COCI01',\n",
    "       'Hrs_15EMPA04', 'Hrs_15TAJA02', 'Hrs_15EMUL01', 'Hrs_15SELL05',\n",
    "       'Hrs_15DOSI01', 'Hrs_15SELL06', 'Hrs_15SELL03','energia']]"
   ]
  },
  {
   "cell_type": "markdown",
   "id": "c32b5383",
   "metadata": {},
   "source": [
    "Desarrollamos la matrix de correlación de pearson con el fin de analizar relaciones lineales entre las variables predictoras y entre estas y las variables a predecir"
   ]
  },
  {
   "cell_type": "code",
   "execution_count": null,
   "id": "f294773d",
   "metadata": {},
   "outputs": [],
   "source": [
    "start_time = time.time()\n",
    "Matriz_Correlacion = pd.DataFrame(np.corrcoef(data_numbers.values, rowvar=False), columns=data_numbers.columns, index=data_numbers.columns)\n",
    "plt.figure(figsize=(60,60))\n",
    "ax = sns.heatmap(Matriz_Correlacion, annot=True)\n",
    "plt.show()\n",
    "elapsed_time = time.time() - start_time\n",
    "print(elapsed_time)"
   ]
  },
  {
   "cell_type": "markdown",
   "id": "02352059",
   "metadata": {},
   "source": [
    "Como se puede identificar en la matriz del output anterior, se observa presencia de colinealidad positiva entre las variables predictoras en algunos casos posteriormente se analizará la opción de la reducción de la dimensión dado esto, con respecto a la variable respuesta tambien se observan relaciones la mayoria entre moderadas-fuertes y positivas, esto indica un buen indicio en la calidad de los datos y su potencial predictor respecto a la solución que se pretende a generar"
   ]
  },
  {
   "cell_type": "code",
   "execution_count": null,
   "id": "cbfebd82",
   "metadata": {},
   "outputs": [],
   "source": [
    "data_numbers_n = data_numbers.copy()"
   ]
  },
  {
   "cell_type": "code",
   "execution_count": null,
   "id": "83af1dda",
   "metadata": {},
   "outputs": [],
   "source": [
    "from sklearn.preprocessing import MinMaxScaler\n",
    "\n",
    "min_max_scaler= MinMaxScaler()\n",
    "min_max_scaler.fit(data_numbers_n[['KG_15EMPA09',\n",
    "       'KG_15EMPA10', 'KG_15PREM01', 'KG_15MEZC08', 'KG_15MOLI07',\n",
    "       'KG_15AHUM10', 'KG_15FORM02', 'KG_15SEPA02', 'KG_15MEZC06',\n",
    "       'KG_15AHUM01', 'KG_15FORM01', 'KG_15SEPA01', 'KG_15AHUM09',\n",
    "       'KG_15EMBU01', 'KG_15EMPM06', 'KG_15TUNE01', 'KG_15MEZC07',\n",
    "       'KG_15MOLI01', 'KG_15MOLI06', 'KG_15EMPA11', 'KG_15EMPM01',\n",
    "       'KG_15MEZC05', 'KG_15MOLI03', 'KG_15HORN01', 'KG_15PORC03',\n",
    "       'KG_15TUNE03', 'KG_15EMPA06', 'KG_15EMPA02', 'KG_15MOLI02',\n",
    "       'KG_15SELL02', 'KG_15MEZC04', 'KG_15MOLI08', 'KG_15TUNE02',\n",
    "       'KG_15PORC01', 'KG_15TUNE04', 'KG_15EMBU03', 'KG_15EMPA08',\n",
    "       'KG_15EMPM05', 'KG_15COCI01', 'KG_15EMPA04', 'KG_15TAJA02',\n",
    "       'KG_15EMUL01', 'KG_15SELL05', 'KG_15DOSI01', 'KG_15SELL06',\n",
    "       'KG_15SELL03', 'Hrs_15EMPA09', 'Hrs_15EMPA10', 'Hrs_15PREM01',\n",
    "       'Hrs_15MEZC08', 'Hrs_15MOLI07', 'Hrs_15AHUM10', 'Hrs_15FORM02',\n",
    "       'Hrs_15SEPA02', 'Hrs_15MEZC06', 'Hrs_15AHUM01', 'Hrs_15FORM01',\n",
    "       'Hrs_15SEPA01', 'Hrs_15AHUM09', 'Hrs_15EMBU01', 'Hrs_15EMPM06',\n",
    "       'Hrs_15TUNE01', 'Hrs_15MEZC07', 'Hrs_15MOLI01', 'Hrs_15MOLI06',\n",
    "       'Hrs_15EMPA11', 'Hrs_15EMPM01', 'Hrs_15MEZC05', 'Hrs_15MOLI03',\n",
    "       'Hrs_15HORN01', 'Hrs_15PORC03', 'Hrs_15TUNE03', 'Hrs_15EMPA06',\n",
    "       'Hrs_15EMPA02', 'Hrs_15MOLI02', 'Hrs_15SELL02', 'Hrs_15MEZC04',\n",
    "       'Hrs_15MOLI08', 'Hrs_15TUNE02', 'Hrs_15PORC01', 'Hrs_15TUNE04',\n",
    "       'Hrs_15EMBU03', 'Hrs_15EMPA08', 'Hrs_15EMPM05', 'Hrs_15COCI01',\n",
    "       'Hrs_15EMPA04', 'Hrs_15TAJA02', 'Hrs_15EMUL01', 'Hrs_15SELL05',\n",
    "       'Hrs_15DOSI01', 'Hrs_15SELL06', 'Hrs_15SELL03','energia']])\n",
    "\n",
    "data_numbers_n[['KG_15EMPA09',\n",
    "       'KG_15EMPA10', 'KG_15PREM01', 'KG_15MEZC08', 'KG_15MOLI07',\n",
    "       'KG_15AHUM10', 'KG_15FORM02', 'KG_15SEPA02', 'KG_15MEZC06',\n",
    "       'KG_15AHUM01', 'KG_15FORM01', 'KG_15SEPA01', 'KG_15AHUM09',\n",
    "       'KG_15EMBU01', 'KG_15EMPM06', 'KG_15TUNE01', 'KG_15MEZC07',\n",
    "       'KG_15MOLI01', 'KG_15MOLI06', 'KG_15EMPA11', 'KG_15EMPM01',\n",
    "       'KG_15MEZC05', 'KG_15MOLI03', 'KG_15HORN01', 'KG_15PORC03',\n",
    "       'KG_15TUNE03', 'KG_15EMPA06', 'KG_15EMPA02', 'KG_15MOLI02',\n",
    "       'KG_15SELL02', 'KG_15MEZC04', 'KG_15MOLI08', 'KG_15TUNE02',\n",
    "       'KG_15PORC01', 'KG_15TUNE04', 'KG_15EMBU03', 'KG_15EMPA08',\n",
    "       'KG_15EMPM05', 'KG_15COCI01', 'KG_15EMPA04', 'KG_15TAJA02',\n",
    "       'KG_15EMUL01', 'KG_15SELL05', 'KG_15DOSI01', 'KG_15SELL06',\n",
    "       'KG_15SELL03', 'Hrs_15EMPA09', 'Hrs_15EMPA10', 'Hrs_15PREM01',\n",
    "       'Hrs_15MEZC08', 'Hrs_15MOLI07', 'Hrs_15AHUM10', 'Hrs_15FORM02',\n",
    "       'Hrs_15SEPA02', 'Hrs_15MEZC06', 'Hrs_15AHUM01', 'Hrs_15FORM01',\n",
    "       'Hrs_15SEPA01', 'Hrs_15AHUM09', 'Hrs_15EMBU01', 'Hrs_15EMPM06',\n",
    "       'Hrs_15TUNE01', 'Hrs_15MEZC07', 'Hrs_15MOLI01', 'Hrs_15MOLI06',\n",
    "       'Hrs_15EMPA11', 'Hrs_15EMPM01', 'Hrs_15MEZC05', 'Hrs_15MOLI03',\n",
    "       'Hrs_15HORN01', 'Hrs_15PORC03', 'Hrs_15TUNE03', 'Hrs_15EMPA06',\n",
    "       'Hrs_15EMPA02', 'Hrs_15MOLI02', 'Hrs_15SELL02', 'Hrs_15MEZC04',\n",
    "       'Hrs_15MOLI08', 'Hrs_15TUNE02', 'Hrs_15PORC01', 'Hrs_15TUNE04',\n",
    "       'Hrs_15EMBU03', 'Hrs_15EMPA08', 'Hrs_15EMPM05', 'Hrs_15COCI01',\n",
    "       'Hrs_15EMPA04', 'Hrs_15TAJA02', 'Hrs_15EMUL01', 'Hrs_15SELL05',\n",
    "       'Hrs_15DOSI01', 'Hrs_15SELL06', 'Hrs_15SELL03','energia']] = min_max_scaler.transform(data_numbers_n[['KG_15EMPA09',\n",
    "       'KG_15EMPA10', 'KG_15PREM01', 'KG_15MEZC08', 'KG_15MOLI07',\n",
    "       'KG_15AHUM10', 'KG_15FORM02', 'KG_15SEPA02', 'KG_15MEZC06',\n",
    "       'KG_15AHUM01', 'KG_15FORM01', 'KG_15SEPA01', 'KG_15AHUM09',\n",
    "       'KG_15EMBU01', 'KG_15EMPM06', 'KG_15TUNE01', 'KG_15MEZC07',\n",
    "       'KG_15MOLI01', 'KG_15MOLI06', 'KG_15EMPA11', 'KG_15EMPM01',\n",
    "       'KG_15MEZC05', 'KG_15MOLI03', 'KG_15HORN01', 'KG_15PORC03',\n",
    "       'KG_15TUNE03', 'KG_15EMPA06', 'KG_15EMPA02', 'KG_15MOLI02',\n",
    "       'KG_15SELL02', 'KG_15MEZC04', 'KG_15MOLI08', 'KG_15TUNE02',\n",
    "       'KG_15PORC01', 'KG_15TUNE04', 'KG_15EMBU03', 'KG_15EMPA08',\n",
    "       'KG_15EMPM05', 'KG_15COCI01', 'KG_15EMPA04', 'KG_15TAJA02',\n",
    "       'KG_15EMUL01', 'KG_15SELL05', 'KG_15DOSI01', 'KG_15SELL06',\n",
    "       'KG_15SELL03', 'Hrs_15EMPA09', 'Hrs_15EMPA10', 'Hrs_15PREM01',\n",
    "       'Hrs_15MEZC08', 'Hrs_15MOLI07', 'Hrs_15AHUM10', 'Hrs_15FORM02',\n",
    "       'Hrs_15SEPA02', 'Hrs_15MEZC06', 'Hrs_15AHUM01', 'Hrs_15FORM01',\n",
    "       'Hrs_15SEPA01', 'Hrs_15AHUM09', 'Hrs_15EMBU01', 'Hrs_15EMPM06',\n",
    "       'Hrs_15TUNE01', 'Hrs_15MEZC07', 'Hrs_15MOLI01', 'Hrs_15MOLI06',\n",
    "       'Hrs_15EMPA11', 'Hrs_15EMPM01', 'Hrs_15MEZC05', 'Hrs_15MOLI03',\n",
    "       'Hrs_15HORN01', 'Hrs_15PORC03', 'Hrs_15TUNE03', 'Hrs_15EMPA06',\n",
    "       'Hrs_15EMPA02', 'Hrs_15MOLI02', 'Hrs_15SELL02', 'Hrs_15MEZC04',\n",
    "       'Hrs_15MOLI08', 'Hrs_15TUNE02', 'Hrs_15PORC01', 'Hrs_15TUNE04',\n",
    "       'Hrs_15EMBU03', 'Hrs_15EMPA08', 'Hrs_15EMPM05', 'Hrs_15COCI01',\n",
    "       'Hrs_15EMPA04', 'Hrs_15TAJA02', 'Hrs_15EMUL01', 'Hrs_15SELL05',\n",
    "       'Hrs_15DOSI01', 'Hrs_15SELL06', 'Hrs_15SELL03','energia']])\n",
    "\n",
    "data_numbers_n.head()"
   ]
  },
  {
   "cell_type": "code",
   "execution_count": null,
   "id": "e1231215",
   "metadata": {},
   "outputs": [],
   "source": [
    "start_time = time.time()\n",
    "\n",
    "sns.set(rc={'figure.figsize':(200,8)}) # Tamaño de la figura\n",
    "sns.set(style=\"whitegrid\") # Estilo de la figura\n",
    "sns.boxplot(data = data_numbers_n, linewidth = 3, palette=\"Set2\", fliersize = 5) # Diagrama Box Plot con los datos con escalamiento estándar\n",
    "sns.despine(left=True)\n",
    "\n",
    "elapsed_time = time.time() - start_time\n",
    "print(elapsed_time)"
   ]
  },
  {
   "cell_type": "markdown",
   "id": "6f89ebde",
   "metadata": {},
   "source": [
    "De la anterior figura, se puede afirmar que en la mayoría de los casos si se presentan outliers, estos  sin embargo son muy cerca a la figura del boxplot para cada variables, menos para el horno 01,la porcionadora 03, el tunel 03 y la selladora 03, que presentan demasiados outliers, esto puede ser debido a una inconsistencia en los datos ya que las diferencias entre un dato y otro son muy grandes tanto en Kg, como en horas.\n",
    "\n",
    "Otros recursos a revisar serían la embutidora 03, la empacadora automatica 08, la empacadora manual 05, el cocinador 01 y la dosificadora 01, los cuales tienen outliers importantes, aproximadamente del 60% de los valores mayores."
   ]
  },
  {
   "cell_type": "markdown",
   "id": "d12ec463",
   "metadata": {},
   "source": [
    "# Preparación de los datos"
   ]
  },
  {
   "cell_type": "markdown",
   "id": "8e4bcdab",
   "metadata": {},
   "source": [
    "Por el momento, transformaremos algunas variables referentes a las fechas cómo variables categoricas para su posterior analisis"
   ]
  },
  {
   "cell_type": "code",
   "execution_count": null,
   "id": "83c6e68c",
   "metadata": {},
   "outputs": [],
   "source": [
    "data[\"Semana\"]= data[\"Semana\"].astype('category')\n",
    "data[\"DiaMes\"]= data[\"DiaMes\"].astype('category')\n",
    "data[\"Mes\"]= data[\"Mes\"].astype('category')\n",
    "data[\"DiasSem\"]= data[\"DiasSem\"].astype('category')"
   ]
  },
  {
   "cell_type": "code",
   "execution_count": null,
   "id": "4af23baa",
   "metadata": {},
   "outputs": [],
   "source": [
    "data"
   ]
  },
  {
   "cell_type": "markdown",
   "id": "479ac640",
   "metadata": {},
   "source": [
    "Se convierten las variables categoricas a numericas a traves del metodo dummies"
   ]
  },
  {
   "cell_type": "code",
   "execution_count": null,
   "id": "8444c47e",
   "metadata": {},
   "outputs": [],
   "source": [
    "data_con_var_fechas = pd.get_dummies(data, columns=['Semana', 'DiaMes','Mes','DiasSem'], drop_first=True)"
   ]
  },
  {
   "cell_type": "code",
   "execution_count": null,
   "id": "f9c7d2f1",
   "metadata": {},
   "outputs": [],
   "source": [
    "data_con_var_fechas"
   ]
  },
  {
   "cell_type": "markdown",
   "id": "145d3e56",
   "metadata": {},
   "source": [
    "Se elimina la caracteristica \"Fecha\" al ser no relevante para el ejercicio de manera a-priori."
   ]
  },
  {
   "cell_type": "code",
   "execution_count": null,
   "id": "abd39abf",
   "metadata": {},
   "outputs": [],
   "source": [
    "data_con_var_fechas_2 = data_con_var_fechas.drop(\"Fecha\", axis=1)"
   ]
  },
  {
   "cell_type": "code",
   "execution_count": null,
   "id": "0b302092",
   "metadata": {},
   "outputs": [],
   "source": [
    "data_con_var_fechas_2"
   ]
  },
  {
   "cell_type": "markdown",
   "id": "a855c115",
   "metadata": {},
   "source": [
    "Eliminamos las variables \"agua\" y energía del conjunto de datos denominado variables predictoras o dependientes \"X\""
   ]
  },
  {
   "cell_type": "code",
   "execution_count": null,
   "id": "2ce909b7",
   "metadata": {},
   "outputs": [],
   "source": [
    "data_con_var_fechas_sin_y_2=data_con_var_fechas_2.loc[:,data_con_var_fechas_2.columns!='energia']"
   ]
  },
  {
   "cell_type": "code",
   "execution_count": null,
   "id": "a01facbb",
   "metadata": {},
   "outputs": [],
   "source": [
    "data_con_var_fechas_sin_y_2"
   ]
  },
  {
   "cell_type": "markdown",
   "id": "7d3d744c",
   "metadata": {},
   "source": [
    "# Modelación"
   ]
  },
  {
   "cell_type": "markdown",
   "id": "cd6e65e3",
   "metadata": {},
   "source": [
    "Realizamos la partición train-test de nuestro conjunto de datos con un tamaño del test del 30%"
   ]
  },
  {
   "cell_type": "code",
   "execution_count": null,
   "id": "6a4f4187",
   "metadata": {},
   "outputs": [],
   "source": [
    "from sklearn.model_selection import train_test_split\n",
    "\n",
    "X_train, X_test, y_train, y_test = train_test_split(data_con_var_fechas_sin_y_2, data_con_var_fechas_2['energia'], \\\n",
    "                                                    test_size=0.3, random_state=0)"
   ]
  },
  {
   "cell_type": "markdown",
   "id": "8c97df12",
   "metadata": {},
   "source": [
    "A continuación realizaremos la estadarización de la escala de las variables ya que las unidades de las variables son diferentes algunos en Kilogramos y otras en Horas"
   ]
  },
  {
   "cell_type": "code",
   "execution_count": null,
   "id": "203cd6f5",
   "metadata": {},
   "outputs": [],
   "source": [
    "from sklearn.preprocessing import MinMaxScaler\n",
    "scaler = MinMaxScaler()\n",
    "sc = scaler.fit(data_con_var_fechas_sin_y_2)\n",
    "X_train_n = sc.transform(X_train)\n",
    "X_test_n = sc.transform(X_test)"
   ]
  },
  {
   "cell_type": "markdown",
   "id": "21ca764b",
   "metadata": {},
   "source": [
    "Como tecnica de validación cruzada, se utilizará \"RepeatedKFold\""
   ]
  },
  {
   "cell_type": "code",
   "execution_count": null,
   "id": "3a80f86d",
   "metadata": {},
   "outputs": [],
   "source": [
    "from sklearn.model_selection import RepeatedKFold\n",
    "rkf = RepeatedKFold(n_splits=10, n_repeats=2, random_state=1)"
   ]
  },
  {
   "cell_type": "markdown",
   "id": "c9e87206",
   "metadata": {},
   "source": [
    "El primer modelo a analizar será la regresión lineal por minimos cuadrados ordinador"
   ]
  },
  {
   "cell_type": "code",
   "execution_count": null,
   "id": "c418bc6b",
   "metadata": {},
   "outputs": [],
   "source": [
    "from sklearn.linear_model import LinearRegression"
   ]
  },
  {
   "cell_type": "markdown",
   "id": "1593ff05",
   "metadata": {},
   "source": [
    "Como tecnica de busqueda y optimización de hyperparametros de los modelos, se utilizara \"GridSearchCV\" que permite evaluar y seleccionar de forma sistemática los parámetros de un modelo"
   ]
  },
  {
   "cell_type": "code",
   "execution_count": null,
   "id": "0a426e30",
   "metadata": {},
   "outputs": [],
   "source": [
    "from sklearn.model_selection import GridSearchCV"
   ]
  },
  {
   "cell_type": "code",
   "execution_count": null,
   "id": "d058c330",
   "metadata": {},
   "outputs": [],
   "source": [
    "mod1 = LinearRegression(n_jobs=4)\n",
    "\n",
    "parameters = {'n_jobs':[3,4]}\n",
    "\n",
    "mod1_1 = GridSearchCV(estimator=mod1, param_grid = parameters, cv=rkf, scoring='explained_variance',return_train_score=True, n_jobs=-1, verbose=4)\n",
    "mod1_1.fit(X_train_n, y_train)"
   ]
  },
  {
   "cell_type": "markdown",
   "id": "5ce70c4c",
   "metadata": {},
   "source": [
    "Los coeficientes de la regresión lineal son los siguientes:"
   ]
  },
  {
   "cell_type": "code",
   "execution_count": null,
   "id": "8e4aeb7a",
   "metadata": {},
   "outputs": [],
   "source": [
    "mod1_1.best_params_"
   ]
  },
  {
   "cell_type": "markdown",
   "id": "e51fba7a",
   "metadata": {},
   "source": [
    "Utilizamos el modelo de regresión lineal para predecir X_test_n"
   ]
  },
  {
   "cell_type": "code",
   "execution_count": null,
   "id": "d8b94333",
   "metadata": {},
   "outputs": [],
   "source": [
    "mod1_1.best_score_"
   ]
  },
  {
   "cell_type": "code",
   "execution_count": null,
   "id": "d529c24c",
   "metadata": {},
   "outputs": [],
   "source": [
    "results_mod1_1= pd.DataFrame(mod1_1.cv_results_)\n",
    "results_mod1_1.where(results_mod1_1.params == mod1_1.best_params_).dropna()['mean_train_score'].T"
   ]
  },
  {
   "cell_type": "code",
   "execution_count": null,
   "id": "bb83d620",
   "metadata": {},
   "outputs": [],
   "source": [
    "from sklearn.metrics import explained_variance_score\n",
    "\n",
    "Yest = mod1_1.predict(X_test_n)\n",
    "\n",
    "print(f\"Explicación de la varianza en X_test_n = {explained_variance_score(y_test,Yest)}\")"
   ]
  },
  {
   "cell_type": "markdown",
   "id": "612b9720",
   "metadata": {},
   "source": [
    "Según los resultados anteriores, se podría afirmar que el ajuste de la predicción con los valores reales no es la mas adecuada"
   ]
  },
  {
   "cell_type": "markdown",
   "id": "06c28bdd",
   "metadata": {},
   "source": [
    "Ahora se considerara otro modelo el cual es ElasticNet, un tipo de regresión lineal que combina las regularización l1 (forza a que los coeficientes de los predictores tiendan a cero) y l2 (reduce de forma proporcional el valor de todos los coeficientes del modelo pero sin que estos lleguen a cero)"
   ]
  },
  {
   "cell_type": "code",
   "execution_count": null,
   "id": "ee958a61",
   "metadata": {},
   "outputs": [],
   "source": [
    "from sklearn.linear_model import ElasticNet"
   ]
  },
  {
   "cell_type": "code",
   "execution_count": null,
   "id": "d4dc3671",
   "metadata": {
    "scrolled": true
   },
   "outputs": [],
   "source": [
    "mod2 = ElasticNet(random_state=0)\n",
    "\n",
    "parameters = {'alpha':[0,0.01,0.05,0.1,0.2,0.3,0.4,0.5,0.6,0.7,0.8,0.9,1], \\\n",
    "              'l1_ratio':[0,0.01,0.05,0.1,0.2,0.3,0.4,0.5,0.6,0.7,0.8,0.9,1]}\n",
    "\n",
    "mod2_1 = GridSearchCV(estimator=mod2, param_grid = parameters, cv=rkf, scoring='explained_variance',return_train_score=True, n_jobs=-1, verbose=4)\n",
    "mod2_1.fit(X_train_n, y_train)"
   ]
  },
  {
   "cell_type": "markdown",
   "id": "e21a3c17",
   "metadata": {},
   "source": [
    "Los mejores parametros para el modelo ElasticNet son los siguientes:"
   ]
  },
  {
   "cell_type": "code",
   "execution_count": null,
   "id": "451382a9",
   "metadata": {},
   "outputs": [],
   "source": [
    "mod2_1.best_params_"
   ]
  },
  {
   "cell_type": "markdown",
   "id": "45a3f6c1",
   "metadata": {},
   "source": [
    "{'alpha': 0.4, 'l1_ratio': 0.9}"
   ]
  },
  {
   "cell_type": "markdown",
   "id": "54e2a0ae",
   "metadata": {},
   "source": [
    "El mejor resultado para la validación fue:"
   ]
  },
  {
   "cell_type": "code",
   "execution_count": null,
   "id": "44a67c9d",
   "metadata": {},
   "outputs": [],
   "source": [
    "mod2_1.best_score_"
   ]
  },
  {
   "cell_type": "markdown",
   "id": "95e918a7",
   "metadata": {},
   "source": [
    "El mejor resultado de la metrica para la validación fue de 0.8446"
   ]
  },
  {
   "cell_type": "markdown",
   "id": "0ca537b0",
   "metadata": {},
   "source": [
    "Los desempeños en el conjunto de entrenamiento se describen a continuación:"
   ]
  },
  {
   "cell_type": "code",
   "execution_count": null,
   "id": "68c06fca",
   "metadata": {},
   "outputs": [],
   "source": [
    "results_mod2_1= pd.DataFrame(mod2_1.cv_results_)\n",
    "results_mod2_1.where(results_mod2_1.params == mod2_1.best_params_).dropna()['mean_train_score'].T"
   ]
  },
  {
   "cell_type": "markdown",
   "id": "d2157cec",
   "metadata": {},
   "source": [
    "El promedio en el score de entrenamiento fue de 0.8638"
   ]
  },
  {
   "cell_type": "markdown",
   "id": "2b3f5154",
   "metadata": {},
   "source": [
    "Ahora se realizará la predicción del conjunto X_test_n y se validara con la metrica explicación de la varianza con respecto al real y_test"
   ]
  },
  {
   "cell_type": "code",
   "execution_count": null,
   "id": "ed3f9b7a",
   "metadata": {},
   "outputs": [],
   "source": [
    "Yest = mod2_1.predict(X_test_n)\n",
    "\n",
    "print(f\"explained_variance_score = {explained_variance_score(y_test,Yest)}\")"
   ]
  },
  {
   "cell_type": "markdown",
   "id": "50e3c692",
   "metadata": {},
   "source": [
    "El resultado fue de 0.8762"
   ]
  },
  {
   "cell_type": "code",
   "execution_count": null,
   "id": "53223b81",
   "metadata": {},
   "outputs": [],
   "source": [
    "mod2_2 = ElasticNet(alpha=0.4, l1_ratio=0.9,random_state=0)\n",
    "mod2_3=mod2_2.fit(X_train_n, y_train)\n",
    "mod2_3.coef_"
   ]
  },
  {
   "cell_type": "code",
   "execution_count": null,
   "id": "baa7899c",
   "metadata": {},
   "outputs": [],
   "source": [
    "d = {'recurso':data_con_var_fechas_sin_y_2.columns, 'coef':mod2_3.coef_}"
   ]
  },
  {
   "cell_type": "code",
   "execution_count": null,
   "id": "7e3f0d18",
   "metadata": {},
   "outputs": [],
   "source": [
    "df = pd.DataFrame(data=d)"
   ]
  },
  {
   "cell_type": "code",
   "execution_count": null,
   "id": "9624baa5",
   "metadata": {},
   "outputs": [],
   "source": [
    "import plotly.express as px\n",
    "fig = px.bar(df, x='recurso', y='coef')\n",
    "fig.show()"
   ]
  },
  {
   "cell_type": "markdown",
   "id": "1afc551f",
   "metadata": {},
   "source": [
    "Ahora se considerara otro modelo el cual es KNeighborsRegressor"
   ]
  },
  {
   "cell_type": "code",
   "execution_count": null,
   "id": "58264eca",
   "metadata": {},
   "outputs": [],
   "source": [
    "from sklearn.neighbors import KNeighborsRegressor"
   ]
  },
  {
   "cell_type": "code",
   "execution_count": null,
   "id": "47addad8",
   "metadata": {},
   "outputs": [],
   "source": [
    "from sklearn.metrics import r2_score\n",
    "\n",
    "start_time = time.time()\n",
    "\n",
    "mod3 = KNeighborsRegressor(n_jobs=3, algorithm='auto')\n",
    "\n",
    "parameters = {'n_neighbors':[3,5,7,9,11,13,15], 'weights':['uniform','distance'], 'p':[1,2], \\\n",
    "              'metric':['euclidean','manhattan','chebyshev','minkowski']}\n",
    "\n",
    "mod3_1 = GridSearchCV(estimator=mod3, param_grid = parameters, cv=rkf, scoring='explained_variance', \\\n",
    "                      return_train_score=True, n_jobs=3,verbose=4)\n",
    "\n",
    "mod3_1.fit(X_train_n, y_train)\n",
    "\n",
    "elapsed_time = time.time() - start_time\n",
    "print(elapsed_time)"
   ]
  },
  {
   "cell_type": "code",
   "execution_count": null,
   "id": "7bd8cbe0",
   "metadata": {},
   "outputs": [],
   "source": [
    "mod3_1.best_params_"
   ]
  },
  {
   "cell_type": "code",
   "execution_count": null,
   "id": "950411e9",
   "metadata": {},
   "outputs": [],
   "source": [
    "mod3_1.best_score_"
   ]
  },
  {
   "cell_type": "code",
   "execution_count": null,
   "id": "6309ebf5",
   "metadata": {},
   "outputs": [],
   "source": [
    "results_mod3_1= pd.DataFrame(mod3_1.cv_results_)\n",
    "results_mod3_1.where(results_mod3_1.params == mod3_1.best_params_).dropna()['mean_train_score'].T"
   ]
  },
  {
   "cell_type": "code",
   "execution_count": null,
   "id": "c6f0500c",
   "metadata": {},
   "outputs": [],
   "source": [
    "Yest = mod3_1.predict(X_test_n)\n",
    "\n",
    "print(f\"explained_variance_score = {explained_variance_score(y_test,Yest)}\")"
   ]
  },
  {
   "cell_type": "markdown",
   "id": "98b623ac",
   "metadata": {},
   "source": [
    "Ahora se considerara otro modelo el cual es DecisionTreeRegressor"
   ]
  },
  {
   "cell_type": "code",
   "execution_count": null,
   "id": "0dde894b",
   "metadata": {},
   "outputs": [],
   "source": [
    "from sklearn.tree import DecisionTreeRegressor"
   ]
  },
  {
   "cell_type": "code",
   "execution_count": null,
   "id": "6653ad53",
   "metadata": {},
   "outputs": [],
   "source": [
    "start_time = time.time()\n",
    "\n",
    "mod4 = DecisionTreeRegressor(random_state=0)\n",
    "\n",
    "parameters = {'min_samples_split':[9,10,11,12,13], \n",
    "              'criterion':['squared_error','friedman_mse', 'absolute_error', 'poisson'],\n",
    "             'splitter':['best','random'],\n",
    "             'max_depth':[4,5,6,7,8,9],\n",
    "             'min_samples_leaf':[2,3,4,5,6,7],\n",
    "             'max_features':['auto','sqrt','log2']}\n",
    "\n",
    "mod4_1 = GridSearchCV(estimator=mod4, param_grid = parameters, cv=rkf, scoring='explained_variance',return_train_score=True, n_jobs=-1,verbose=4)\n",
    "mod4_1.fit(X_train_n, y_train)\n",
    "\n",
    "elapsed_time = time.time() - start_time\n",
    "print(elapsed_time)"
   ]
  },
  {
   "cell_type": "code",
   "execution_count": null,
   "id": "de0cd4a5",
   "metadata": {},
   "outputs": [],
   "source": [
    "mod4_1.best_params_"
   ]
  },
  {
   "cell_type": "code",
   "execution_count": null,
   "id": "15e35ec8",
   "metadata": {},
   "outputs": [],
   "source": [
    "mod4_1.best_score_"
   ]
  },
  {
   "cell_type": "code",
   "execution_count": null,
   "id": "1265b5fa",
   "metadata": {},
   "outputs": [],
   "source": [
    "results_mod4_1= pd.DataFrame(mod4_1.cv_results_)\n",
    "results_mod4_1.where(results_mod4_1.params == mod4_1.best_params_).dropna()['mean_train_score'].T"
   ]
  },
  {
   "cell_type": "code",
   "execution_count": null,
   "id": "a8b0eaaa",
   "metadata": {},
   "outputs": [],
   "source": [
    "Yest = mod4_1.predict(X_test_n)\n",
    "\n",
    "print(f\"explained_variance_score = {explained_variance_score(y_test,Yest)}\")"
   ]
  },
  {
   "cell_type": "code",
   "execution_count": null,
   "id": "3525d64f",
   "metadata": {},
   "outputs": [],
   "source": [
    "regr = DecisionTreeRegressor(criterion = 'friedman_mse',\n",
    " max_depth = 7,\n",
    " max_features = 'auto',\n",
    " min_samples_leaf= 5,\n",
    " min_samples_split= 11,\n",
    " splitter= 'random', random_state=0)\n",
    "\n",
    "model = regr.fit(X_train_n, y_train)"
   ]
  },
  {
   "cell_type": "code",
   "execution_count": null,
   "id": "388a55be",
   "metadata": {},
   "outputs": [],
   "source": [
    "from sklearn import tree\n",
    "fig = plt.figure(figsize=(100,80))\n",
    "_ = tree.plot_tree(regr, feature_names=data_con_var_fechas_sin_y_2.columns, filled=True)"
   ]
  },
  {
   "cell_type": "code",
   "execution_count": null,
   "id": "b58874fc",
   "metadata": {},
   "outputs": [],
   "source": []
  },
  {
   "cell_type": "code",
   "execution_count": null,
   "id": "f5fc0847",
   "metadata": {},
   "outputs": [],
   "source": []
  },
  {
   "cell_type": "code",
   "execution_count": null,
   "id": "505bce8c",
   "metadata": {},
   "outputs": [],
   "source": []
  },
  {
   "cell_type": "code",
   "execution_count": null,
   "id": "44e82dfa",
   "metadata": {},
   "outputs": [],
   "source": []
  }
 ],
 "metadata": {
  "kernelspec": {
   "display_name": "Python 3",
   "language": "python",
   "name": "python3"
  },
  "language_info": {
   "codemirror_mode": {
    "name": "ipython",
    "version": 3
   },
   "file_extension": ".py",
   "mimetype": "text/x-python",
   "name": "python",
   "nbconvert_exporter": "python",
   "pygments_lexer": "ipython3",
   "version": "3.8.8"
  }
 },
 "nbformat": 4,
 "nbformat_minor": 5
}
